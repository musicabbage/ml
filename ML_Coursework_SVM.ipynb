{
  "cells": [
    {
      "cell_type": "markdown",
      "metadata": {
        "id": "view-in-github",
        "colab_type": "text"
      },
      "source": [
        "<a href=\"https://colab.research.google.com/github/musicabbage/ml/blob/master/ML_Coursework_SVM.ipynb\" target=\"_parent\"><img src=\"https://colab.research.google.com/assets/colab-badge.svg\" alt=\"Open In Colab\"/></a>"
      ]
    },
    {
      "cell_type": "code",
      "execution_count": 1,
      "metadata": {
        "id": "PY2MIuUux3P1",
        "colab": {
          "base_uri": "https://localhost:8080/",
          "height": 306
        },
        "outputId": "420e3883-be8d-4632-ef4d-3d00c0cc2513"
      },
      "outputs": [
        {
          "output_type": "stream",
          "name": "stdout",
          "text": [
            "Mounted at /content/drive\n",
            "drive  sample_data\n"
          ]
        },
        {
          "output_type": "execute_result",
          "data": {
            "text/plain": [
              "    Area  Perimeter  MajorAxisLength  MinorAxisLength  AspectRation  \\\n",
              "0  28395    610.291       208.178117       173.888747      1.197191   \n",
              "1  28734    638.018       200.524796       182.734419      1.097356   \n",
              "2  29380    624.110       212.826130       175.931143      1.209713   \n",
              "3  30008    645.884       210.557999       182.516516      1.153638   \n",
              "4  30140    620.134       201.847882       190.279279      1.060798   \n",
              "\n",
              "   Eccentricity  ConvexArea  EquivDiameter    Extent  Solidity  roundness  \\\n",
              "0      0.549812       28715     190.141097  0.763923  0.988856   0.958027   \n",
              "1      0.411785       29172     191.272750  0.783968  0.984986   0.887034   \n",
              "2      0.562727       29690     193.410904  0.778113  0.989559   0.947849   \n",
              "3      0.498616       30724     195.467062  0.782681  0.976696   0.903936   \n",
              "4      0.333680       30417     195.896503  0.773098  0.990893   0.984877   \n",
              "\n",
              "   Compactness  ShapeFactor1  ShapeFactor2  ShapeFactor3  ShapeFactor4  Class  \n",
              "0     0.913358      0.007332      0.003147      0.834222      0.998724  SEKER  \n",
              "1     0.953861      0.006979      0.003564      0.909851      0.998430  SEKER  \n",
              "2     0.908774      0.007244      0.003048      0.825871      0.999066  SEKER  \n",
              "3     0.928329      0.007017      0.003215      0.861794      0.994199  SEKER  \n",
              "4     0.970516      0.006697      0.003665      0.941900      0.999166  SEKER  "
            ],
            "text/html": [
              "\n",
              "  <div id=\"df-2e824412-7bbd-4bb2-be38-79ef34f509c0\">\n",
              "    <div class=\"colab-df-container\">\n",
              "      <div>\n",
              "<style scoped>\n",
              "    .dataframe tbody tr th:only-of-type {\n",
              "        vertical-align: middle;\n",
              "    }\n",
              "\n",
              "    .dataframe tbody tr th {\n",
              "        vertical-align: top;\n",
              "    }\n",
              "\n",
              "    .dataframe thead th {\n",
              "        text-align: right;\n",
              "    }\n",
              "</style>\n",
              "<table border=\"1\" class=\"dataframe\">\n",
              "  <thead>\n",
              "    <tr style=\"text-align: right;\">\n",
              "      <th></th>\n",
              "      <th>Area</th>\n",
              "      <th>Perimeter</th>\n",
              "      <th>MajorAxisLength</th>\n",
              "      <th>MinorAxisLength</th>\n",
              "      <th>AspectRation</th>\n",
              "      <th>Eccentricity</th>\n",
              "      <th>ConvexArea</th>\n",
              "      <th>EquivDiameter</th>\n",
              "      <th>Extent</th>\n",
              "      <th>Solidity</th>\n",
              "      <th>roundness</th>\n",
              "      <th>Compactness</th>\n",
              "      <th>ShapeFactor1</th>\n",
              "      <th>ShapeFactor2</th>\n",
              "      <th>ShapeFactor3</th>\n",
              "      <th>ShapeFactor4</th>\n",
              "      <th>Class</th>\n",
              "    </tr>\n",
              "  </thead>\n",
              "  <tbody>\n",
              "    <tr>\n",
              "      <th>0</th>\n",
              "      <td>28395</td>\n",
              "      <td>610.291</td>\n",
              "      <td>208.178117</td>\n",
              "      <td>173.888747</td>\n",
              "      <td>1.197191</td>\n",
              "      <td>0.549812</td>\n",
              "      <td>28715</td>\n",
              "      <td>190.141097</td>\n",
              "      <td>0.763923</td>\n",
              "      <td>0.988856</td>\n",
              "      <td>0.958027</td>\n",
              "      <td>0.913358</td>\n",
              "      <td>0.007332</td>\n",
              "      <td>0.003147</td>\n",
              "      <td>0.834222</td>\n",
              "      <td>0.998724</td>\n",
              "      <td>SEKER</td>\n",
              "    </tr>\n",
              "    <tr>\n",
              "      <th>1</th>\n",
              "      <td>28734</td>\n",
              "      <td>638.018</td>\n",
              "      <td>200.524796</td>\n",
              "      <td>182.734419</td>\n",
              "      <td>1.097356</td>\n",
              "      <td>0.411785</td>\n",
              "      <td>29172</td>\n",
              "      <td>191.272750</td>\n",
              "      <td>0.783968</td>\n",
              "      <td>0.984986</td>\n",
              "      <td>0.887034</td>\n",
              "      <td>0.953861</td>\n",
              "      <td>0.006979</td>\n",
              "      <td>0.003564</td>\n",
              "      <td>0.909851</td>\n",
              "      <td>0.998430</td>\n",
              "      <td>SEKER</td>\n",
              "    </tr>\n",
              "    <tr>\n",
              "      <th>2</th>\n",
              "      <td>29380</td>\n",
              "      <td>624.110</td>\n",
              "      <td>212.826130</td>\n",
              "      <td>175.931143</td>\n",
              "      <td>1.209713</td>\n",
              "      <td>0.562727</td>\n",
              "      <td>29690</td>\n",
              "      <td>193.410904</td>\n",
              "      <td>0.778113</td>\n",
              "      <td>0.989559</td>\n",
              "      <td>0.947849</td>\n",
              "      <td>0.908774</td>\n",
              "      <td>0.007244</td>\n",
              "      <td>0.003048</td>\n",
              "      <td>0.825871</td>\n",
              "      <td>0.999066</td>\n",
              "      <td>SEKER</td>\n",
              "    </tr>\n",
              "    <tr>\n",
              "      <th>3</th>\n",
              "      <td>30008</td>\n",
              "      <td>645.884</td>\n",
              "      <td>210.557999</td>\n",
              "      <td>182.516516</td>\n",
              "      <td>1.153638</td>\n",
              "      <td>0.498616</td>\n",
              "      <td>30724</td>\n",
              "      <td>195.467062</td>\n",
              "      <td>0.782681</td>\n",
              "      <td>0.976696</td>\n",
              "      <td>0.903936</td>\n",
              "      <td>0.928329</td>\n",
              "      <td>0.007017</td>\n",
              "      <td>0.003215</td>\n",
              "      <td>0.861794</td>\n",
              "      <td>0.994199</td>\n",
              "      <td>SEKER</td>\n",
              "    </tr>\n",
              "    <tr>\n",
              "      <th>4</th>\n",
              "      <td>30140</td>\n",
              "      <td>620.134</td>\n",
              "      <td>201.847882</td>\n",
              "      <td>190.279279</td>\n",
              "      <td>1.060798</td>\n",
              "      <td>0.333680</td>\n",
              "      <td>30417</td>\n",
              "      <td>195.896503</td>\n",
              "      <td>0.773098</td>\n",
              "      <td>0.990893</td>\n",
              "      <td>0.984877</td>\n",
              "      <td>0.970516</td>\n",
              "      <td>0.006697</td>\n",
              "      <td>0.003665</td>\n",
              "      <td>0.941900</td>\n",
              "      <td>0.999166</td>\n",
              "      <td>SEKER</td>\n",
              "    </tr>\n",
              "  </tbody>\n",
              "</table>\n",
              "</div>\n",
              "      <button class=\"colab-df-convert\" onclick=\"convertToInteractive('df-2e824412-7bbd-4bb2-be38-79ef34f509c0')\"\n",
              "              title=\"Convert this dataframe to an interactive table.\"\n",
              "              style=\"display:none;\">\n",
              "        \n",
              "  <svg xmlns=\"http://www.w3.org/2000/svg\" height=\"24px\"viewBox=\"0 0 24 24\"\n",
              "       width=\"24px\">\n",
              "    <path d=\"M0 0h24v24H0V0z\" fill=\"none\"/>\n",
              "    <path d=\"M18.56 5.44l.94 2.06.94-2.06 2.06-.94-2.06-.94-.94-2.06-.94 2.06-2.06.94zm-11 1L8.5 8.5l.94-2.06 2.06-.94-2.06-.94L8.5 2.5l-.94 2.06-2.06.94zm10 10l.94 2.06.94-2.06 2.06-.94-2.06-.94-.94-2.06-.94 2.06-2.06.94z\"/><path d=\"M17.41 7.96l-1.37-1.37c-.4-.4-.92-.59-1.43-.59-.52 0-1.04.2-1.43.59L10.3 9.45l-7.72 7.72c-.78.78-.78 2.05 0 2.83L4 21.41c.39.39.9.59 1.41.59.51 0 1.02-.2 1.41-.59l7.78-7.78 2.81-2.81c.8-.78.8-2.07 0-2.86zM5.41 20L4 18.59l7.72-7.72 1.47 1.35L5.41 20z\"/>\n",
              "  </svg>\n",
              "      </button>\n",
              "      \n",
              "  <style>\n",
              "    .colab-df-container {\n",
              "      display:flex;\n",
              "      flex-wrap:wrap;\n",
              "      gap: 12px;\n",
              "    }\n",
              "\n",
              "    .colab-df-convert {\n",
              "      background-color: #E8F0FE;\n",
              "      border: none;\n",
              "      border-radius: 50%;\n",
              "      cursor: pointer;\n",
              "      display: none;\n",
              "      fill: #1967D2;\n",
              "      height: 32px;\n",
              "      padding: 0 0 0 0;\n",
              "      width: 32px;\n",
              "    }\n",
              "\n",
              "    .colab-df-convert:hover {\n",
              "      background-color: #E2EBFA;\n",
              "      box-shadow: 0px 1px 2px rgba(60, 64, 67, 0.3), 0px 1px 3px 1px rgba(60, 64, 67, 0.15);\n",
              "      fill: #174EA6;\n",
              "    }\n",
              "\n",
              "    [theme=dark] .colab-df-convert {\n",
              "      background-color: #3B4455;\n",
              "      fill: #D2E3FC;\n",
              "    }\n",
              "\n",
              "    [theme=dark] .colab-df-convert:hover {\n",
              "      background-color: #434B5C;\n",
              "      box-shadow: 0px 1px 3px 1px rgba(0, 0, 0, 0.15);\n",
              "      filter: drop-shadow(0px 1px 2px rgba(0, 0, 0, 0.3));\n",
              "      fill: #FFFFFF;\n",
              "    }\n",
              "  </style>\n",
              "\n",
              "      <script>\n",
              "        const buttonEl =\n",
              "          document.querySelector('#df-2e824412-7bbd-4bb2-be38-79ef34f509c0 button.colab-df-convert');\n",
              "        buttonEl.style.display =\n",
              "          google.colab.kernel.accessAllowed ? 'block' : 'none';\n",
              "\n",
              "        async function convertToInteractive(key) {\n",
              "          const element = document.querySelector('#df-2e824412-7bbd-4bb2-be38-79ef34f509c0');\n",
              "          const dataTable =\n",
              "            await google.colab.kernel.invokeFunction('convertToInteractive',\n",
              "                                                     [key], {});\n",
              "          if (!dataTable) return;\n",
              "\n",
              "          const docLinkHtml = 'Like what you see? Visit the ' +\n",
              "            '<a target=\"_blank\" href=https://colab.research.google.com/notebooks/data_table.ipynb>data table notebook</a>'\n",
              "            + ' to learn more about interactive tables.';\n",
              "          element.innerHTML = '';\n",
              "          dataTable['output_type'] = 'display_data';\n",
              "          await google.colab.output.renderOutput(dataTable, element);\n",
              "          const docLink = document.createElement('div');\n",
              "          docLink.innerHTML = docLinkHtml;\n",
              "          element.appendChild(docLink);\n",
              "        }\n",
              "      </script>\n",
              "    </div>\n",
              "  </div>\n",
              "  "
            ]
          },
          "metadata": {},
          "execution_count": 1
        }
      ],
      "source": [
        "from google.colab import drive\n",
        "import pandas\n",
        "import numpy\n",
        "\n",
        "drive.mount('/content/drive')\n",
        "!ls  /content\n",
        "\n",
        "# specifying the full path for the unzipped xls file for the 28_features version\n",
        "# of the dataset \n",
        "feat_data_file_full_path = \"/content/drive/MyDrive/Colab Notebooks/Dry_Bean_Dataset.xlsx\"\n",
        "\n",
        "# loading the data from the xls file\n",
        "bean_data = pandas.read_excel(feat_data_file_full_path)\n",
        "bean_data.head()"
      ]
    },
    {
      "cell_type": "markdown",
      "metadata": {
        "id": "iO7JL6_-sa8J"
      },
      "source": [
        "# Explore data"
      ]
    },
    {
      "cell_type": "code",
      "execution_count": null,
      "metadata": {
        "colab": {
          "base_uri": "https://localhost:8080/",
          "height": 551
        },
        "id": "SxyQ1G0daD7n",
        "outputId": "c4f0f072-bea7-4406-c19e-95a38f2ee2ea"
      },
      "outputs": [
        {
          "data": {
            "text/html": [
              "\n",
              "  <div id=\"df-a5225241-ad9c-441c-a0be-d6bd0a53f6a3\">\n",
              "    <div class=\"colab-df-container\">\n",
              "      <div>\n",
              "<style scoped>\n",
              "    .dataframe tbody tr th:only-of-type {\n",
              "        vertical-align: middle;\n",
              "    }\n",
              "\n",
              "    .dataframe tbody tr th {\n",
              "        vertical-align: top;\n",
              "    }\n",
              "\n",
              "    .dataframe thead th {\n",
              "        text-align: right;\n",
              "    }\n",
              "</style>\n",
              "<table border=\"1\" class=\"dataframe\">\n",
              "  <thead>\n",
              "    <tr style=\"text-align: right;\">\n",
              "      <th></th>\n",
              "      <th>count</th>\n",
              "      <th>mean</th>\n",
              "      <th>std</th>\n",
              "      <th>min</th>\n",
              "      <th>25%</th>\n",
              "      <th>50%</th>\n",
              "      <th>75%</th>\n",
              "      <th>max</th>\n",
              "    </tr>\n",
              "  </thead>\n",
              "  <tbody>\n",
              "    <tr>\n",
              "      <th>Area</th>\n",
              "      <td>13611.0</td>\n",
              "      <td>53048.284549</td>\n",
              "      <td>29324.095717</td>\n",
              "      <td>20420.000000</td>\n",
              "      <td>36328.000000</td>\n",
              "      <td>44652.000000</td>\n",
              "      <td>61332.000000</td>\n",
              "      <td>254616.000000</td>\n",
              "    </tr>\n",
              "    <tr>\n",
              "      <th>Perimeter</th>\n",
              "      <td>13611.0</td>\n",
              "      <td>855.283459</td>\n",
              "      <td>214.289696</td>\n",
              "      <td>524.736000</td>\n",
              "      <td>703.523500</td>\n",
              "      <td>794.941000</td>\n",
              "      <td>977.213000</td>\n",
              "      <td>1985.370000</td>\n",
              "    </tr>\n",
              "    <tr>\n",
              "      <th>MajorAxisLength</th>\n",
              "      <td>13611.0</td>\n",
              "      <td>320.141867</td>\n",
              "      <td>85.694186</td>\n",
              "      <td>183.601165</td>\n",
              "      <td>253.303633</td>\n",
              "      <td>296.883367</td>\n",
              "      <td>376.495012</td>\n",
              "      <td>738.860153</td>\n",
              "    </tr>\n",
              "    <tr>\n",
              "      <th>MinorAxisLength</th>\n",
              "      <td>13611.0</td>\n",
              "      <td>202.270714</td>\n",
              "      <td>44.970091</td>\n",
              "      <td>122.512653</td>\n",
              "      <td>175.848170</td>\n",
              "      <td>192.431733</td>\n",
              "      <td>217.031741</td>\n",
              "      <td>460.198497</td>\n",
              "    </tr>\n",
              "    <tr>\n",
              "      <th>AspectRation</th>\n",
              "      <td>13611.0</td>\n",
              "      <td>1.583242</td>\n",
              "      <td>0.246678</td>\n",
              "      <td>1.024868</td>\n",
              "      <td>1.432307</td>\n",
              "      <td>1.551124</td>\n",
              "      <td>1.707109</td>\n",
              "      <td>2.430306</td>\n",
              "    </tr>\n",
              "    <tr>\n",
              "      <th>Eccentricity</th>\n",
              "      <td>13611.0</td>\n",
              "      <td>0.750895</td>\n",
              "      <td>0.092002</td>\n",
              "      <td>0.218951</td>\n",
              "      <td>0.715928</td>\n",
              "      <td>0.764441</td>\n",
              "      <td>0.810466</td>\n",
              "      <td>0.911423</td>\n",
              "    </tr>\n",
              "    <tr>\n",
              "      <th>ConvexArea</th>\n",
              "      <td>13611.0</td>\n",
              "      <td>53768.200206</td>\n",
              "      <td>29774.915817</td>\n",
              "      <td>20684.000000</td>\n",
              "      <td>36714.500000</td>\n",
              "      <td>45178.000000</td>\n",
              "      <td>62294.000000</td>\n",
              "      <td>263261.000000</td>\n",
              "    </tr>\n",
              "    <tr>\n",
              "      <th>EquivDiameter</th>\n",
              "      <td>13611.0</td>\n",
              "      <td>253.064220</td>\n",
              "      <td>59.177120</td>\n",
              "      <td>161.243764</td>\n",
              "      <td>215.068003</td>\n",
              "      <td>238.438026</td>\n",
              "      <td>279.446467</td>\n",
              "      <td>569.374358</td>\n",
              "    </tr>\n",
              "    <tr>\n",
              "      <th>Extent</th>\n",
              "      <td>13611.0</td>\n",
              "      <td>0.749733</td>\n",
              "      <td>0.049086</td>\n",
              "      <td>0.555315</td>\n",
              "      <td>0.718634</td>\n",
              "      <td>0.759859</td>\n",
              "      <td>0.786851</td>\n",
              "      <td>0.866195</td>\n",
              "    </tr>\n",
              "    <tr>\n",
              "      <th>Solidity</th>\n",
              "      <td>13611.0</td>\n",
              "      <td>0.987143</td>\n",
              "      <td>0.004660</td>\n",
              "      <td>0.919246</td>\n",
              "      <td>0.985670</td>\n",
              "      <td>0.988283</td>\n",
              "      <td>0.990013</td>\n",
              "      <td>0.994677</td>\n",
              "    </tr>\n",
              "    <tr>\n",
              "      <th>roundness</th>\n",
              "      <td>13611.0</td>\n",
              "      <td>0.873282</td>\n",
              "      <td>0.059520</td>\n",
              "      <td>0.489618</td>\n",
              "      <td>0.832096</td>\n",
              "      <td>0.883157</td>\n",
              "      <td>0.916869</td>\n",
              "      <td>0.990685</td>\n",
              "    </tr>\n",
              "    <tr>\n",
              "      <th>Compactness</th>\n",
              "      <td>13611.0</td>\n",
              "      <td>0.799864</td>\n",
              "      <td>0.061713</td>\n",
              "      <td>0.640577</td>\n",
              "      <td>0.762469</td>\n",
              "      <td>0.801277</td>\n",
              "      <td>0.834270</td>\n",
              "      <td>0.987303</td>\n",
              "    </tr>\n",
              "    <tr>\n",
              "      <th>ShapeFactor1</th>\n",
              "      <td>13611.0</td>\n",
              "      <td>0.006564</td>\n",
              "      <td>0.001128</td>\n",
              "      <td>0.002778</td>\n",
              "      <td>0.005900</td>\n",
              "      <td>0.006645</td>\n",
              "      <td>0.007271</td>\n",
              "      <td>0.010451</td>\n",
              "    </tr>\n",
              "    <tr>\n",
              "      <th>ShapeFactor2</th>\n",
              "      <td>13611.0</td>\n",
              "      <td>0.001716</td>\n",
              "      <td>0.000596</td>\n",
              "      <td>0.000564</td>\n",
              "      <td>0.001154</td>\n",
              "      <td>0.001694</td>\n",
              "      <td>0.002170</td>\n",
              "      <td>0.003665</td>\n",
              "    </tr>\n",
              "    <tr>\n",
              "      <th>ShapeFactor3</th>\n",
              "      <td>13611.0</td>\n",
              "      <td>0.643590</td>\n",
              "      <td>0.098996</td>\n",
              "      <td>0.410339</td>\n",
              "      <td>0.581359</td>\n",
              "      <td>0.642044</td>\n",
              "      <td>0.696006</td>\n",
              "      <td>0.974767</td>\n",
              "    </tr>\n",
              "    <tr>\n",
              "      <th>ShapeFactor4</th>\n",
              "      <td>13611.0</td>\n",
              "      <td>0.995063</td>\n",
              "      <td>0.004366</td>\n",
              "      <td>0.947687</td>\n",
              "      <td>0.993703</td>\n",
              "      <td>0.996386</td>\n",
              "      <td>0.997883</td>\n",
              "      <td>0.999733</td>\n",
              "    </tr>\n",
              "  </tbody>\n",
              "</table>\n",
              "</div>\n",
              "      <button class=\"colab-df-convert\" onclick=\"convertToInteractive('df-a5225241-ad9c-441c-a0be-d6bd0a53f6a3')\"\n",
              "              title=\"Convert this dataframe to an interactive table.\"\n",
              "              style=\"display:none;\">\n",
              "        \n",
              "  <svg xmlns=\"http://www.w3.org/2000/svg\" height=\"24px\"viewBox=\"0 0 24 24\"\n",
              "       width=\"24px\">\n",
              "    <path d=\"M0 0h24v24H0V0z\" fill=\"none\"/>\n",
              "    <path d=\"M18.56 5.44l.94 2.06.94-2.06 2.06-.94-2.06-.94-.94-2.06-.94 2.06-2.06.94zm-11 1L8.5 8.5l.94-2.06 2.06-.94-2.06-.94L8.5 2.5l-.94 2.06-2.06.94zm10 10l.94 2.06.94-2.06 2.06-.94-2.06-.94-.94-2.06-.94 2.06-2.06.94z\"/><path d=\"M17.41 7.96l-1.37-1.37c-.4-.4-.92-.59-1.43-.59-.52 0-1.04.2-1.43.59L10.3 9.45l-7.72 7.72c-.78.78-.78 2.05 0 2.83L4 21.41c.39.39.9.59 1.41.59.51 0 1.02-.2 1.41-.59l7.78-7.78 2.81-2.81c.8-.78.8-2.07 0-2.86zM5.41 20L4 18.59l7.72-7.72 1.47 1.35L5.41 20z\"/>\n",
              "  </svg>\n",
              "      </button>\n",
              "      \n",
              "  <style>\n",
              "    .colab-df-container {\n",
              "      display:flex;\n",
              "      flex-wrap:wrap;\n",
              "      gap: 12px;\n",
              "    }\n",
              "\n",
              "    .colab-df-convert {\n",
              "      background-color: #E8F0FE;\n",
              "      border: none;\n",
              "      border-radius: 50%;\n",
              "      cursor: pointer;\n",
              "      display: none;\n",
              "      fill: #1967D2;\n",
              "      height: 32px;\n",
              "      padding: 0 0 0 0;\n",
              "      width: 32px;\n",
              "    }\n",
              "\n",
              "    .colab-df-convert:hover {\n",
              "      background-color: #E2EBFA;\n",
              "      box-shadow: 0px 1px 2px rgba(60, 64, 67, 0.3), 0px 1px 3px 1px rgba(60, 64, 67, 0.15);\n",
              "      fill: #174EA6;\n",
              "    }\n",
              "\n",
              "    [theme=dark] .colab-df-convert {\n",
              "      background-color: #3B4455;\n",
              "      fill: #D2E3FC;\n",
              "    }\n",
              "\n",
              "    [theme=dark] .colab-df-convert:hover {\n",
              "      background-color: #434B5C;\n",
              "      box-shadow: 0px 1px 3px 1px rgba(0, 0, 0, 0.15);\n",
              "      filter: drop-shadow(0px 1px 2px rgba(0, 0, 0, 0.3));\n",
              "      fill: #FFFFFF;\n",
              "    }\n",
              "  </style>\n",
              "\n",
              "      <script>\n",
              "        const buttonEl =\n",
              "          document.querySelector('#df-a5225241-ad9c-441c-a0be-d6bd0a53f6a3 button.colab-df-convert');\n",
              "        buttonEl.style.display =\n",
              "          google.colab.kernel.accessAllowed ? 'block' : 'none';\n",
              "\n",
              "        async function convertToInteractive(key) {\n",
              "          const element = document.querySelector('#df-a5225241-ad9c-441c-a0be-d6bd0a53f6a3');\n",
              "          const dataTable =\n",
              "            await google.colab.kernel.invokeFunction('convertToInteractive',\n",
              "                                                     [key], {});\n",
              "          if (!dataTable) return;\n",
              "\n",
              "          const docLinkHtml = 'Like what you see? Visit the ' +\n",
              "            '<a target=\"_blank\" href=https://colab.research.google.com/notebooks/data_table.ipynb>data table notebook</a>'\n",
              "            + ' to learn more about interactive tables.';\n",
              "          element.innerHTML = '';\n",
              "          dataTable['output_type'] = 'display_data';\n",
              "          await google.colab.output.renderOutput(dataTable, element);\n",
              "          const docLink = document.createElement('div');\n",
              "          docLink.innerHTML = docLinkHtml;\n",
              "          element.appendChild(docLink);\n",
              "        }\n",
              "      </script>\n",
              "    </div>\n",
              "  </div>\n",
              "  "
            ],
            "text/plain": [
              "                   count          mean           std           min  \\\n",
              "Area             13611.0  53048.284549  29324.095717  20420.000000   \n",
              "Perimeter        13611.0    855.283459    214.289696    524.736000   \n",
              "MajorAxisLength  13611.0    320.141867     85.694186    183.601165   \n",
              "MinorAxisLength  13611.0    202.270714     44.970091    122.512653   \n",
              "AspectRation     13611.0      1.583242      0.246678      1.024868   \n",
              "Eccentricity     13611.0      0.750895      0.092002      0.218951   \n",
              "ConvexArea       13611.0  53768.200206  29774.915817  20684.000000   \n",
              "EquivDiameter    13611.0    253.064220     59.177120    161.243764   \n",
              "Extent           13611.0      0.749733      0.049086      0.555315   \n",
              "Solidity         13611.0      0.987143      0.004660      0.919246   \n",
              "roundness        13611.0      0.873282      0.059520      0.489618   \n",
              "Compactness      13611.0      0.799864      0.061713      0.640577   \n",
              "ShapeFactor1     13611.0      0.006564      0.001128      0.002778   \n",
              "ShapeFactor2     13611.0      0.001716      0.000596      0.000564   \n",
              "ShapeFactor3     13611.0      0.643590      0.098996      0.410339   \n",
              "ShapeFactor4     13611.0      0.995063      0.004366      0.947687   \n",
              "\n",
              "                          25%           50%           75%            max  \n",
              "Area             36328.000000  44652.000000  61332.000000  254616.000000  \n",
              "Perimeter          703.523500    794.941000    977.213000    1985.370000  \n",
              "MajorAxisLength    253.303633    296.883367    376.495012     738.860153  \n",
              "MinorAxisLength    175.848170    192.431733    217.031741     460.198497  \n",
              "AspectRation         1.432307      1.551124      1.707109       2.430306  \n",
              "Eccentricity         0.715928      0.764441      0.810466       0.911423  \n",
              "ConvexArea       36714.500000  45178.000000  62294.000000  263261.000000  \n",
              "EquivDiameter      215.068003    238.438026    279.446467     569.374358  \n",
              "Extent               0.718634      0.759859      0.786851       0.866195  \n",
              "Solidity             0.985670      0.988283      0.990013       0.994677  \n",
              "roundness            0.832096      0.883157      0.916869       0.990685  \n",
              "Compactness          0.762469      0.801277      0.834270       0.987303  \n",
              "ShapeFactor1         0.005900      0.006645      0.007271       0.010451  \n",
              "ShapeFactor2         0.001154      0.001694      0.002170       0.003665  \n",
              "ShapeFactor3         0.581359      0.642044      0.696006       0.974767  \n",
              "ShapeFactor4         0.993703      0.996386      0.997883       0.999733  "
            ]
          },
          "execution_count": 136,
          "metadata": {},
          "output_type": "execute_result"
        }
      ],
      "source": [
        "bean_data.describe().T"
      ]
    },
    {
      "cell_type": "code",
      "execution_count": null,
      "metadata": {
        "id": "-673O8VmbVKf"
      },
      "outputs": [],
      "source": [
        "import matplotlib.pyplot as plt\n",
        "\n",
        "# for col in bean_data.columns[:-1]:\n",
        "#     plt.title(col)\n",
        "#     bean_data[col].plot.hist() #plotting the histogram with Pandas\n",
        "#     plt.show();\n"
      ]
    },
    {
      "cell_type": "code",
      "execution_count": null,
      "metadata": {
        "id": "t8hLFXPTda8h"
      },
      "outputs": [],
      "source": [
        "import seaborn as sns\n",
        "\n",
        "# for feature_1 in bean_data.columns[:-1]:\n",
        "#     for feature_2 in bean_data.columns[:-1]:\n",
        "#         if feature_1 != feature_2: # test if the features are different\n",
        "#             print(feature_1, feature_2) # prints features names\n",
        "#             sns.scatterplot(x=feature_1, y=feature_2, data=bean_data, hue='Class') # plots each feature points with its color depending on the class column value\n",
        "#             plt.show();\n"
      ]
    },
    {
      "cell_type": "code",
      "execution_count": null,
      "metadata": {
        "id": "liXE2joShJUR"
      },
      "outputs": [],
      "source": [
        "# sns.pairplot(bean_data, hue='Class');"
      ]
    },
    {
      "cell_type": "markdown",
      "metadata": {
        "id": "_uXnwi2msid3"
      },
      "source": [
        "# Devide data"
      ]
    },
    {
      "cell_type": "markdown",
      "metadata": {
        "id": "jcOWHs8amQGp"
      },
      "source": [
        "## separate the dependent variable from the independent variables."
      ]
    },
    {
      "cell_type": "code",
      "execution_count": null,
      "metadata": {
        "colab": {
          "base_uri": "https://localhost:8080/",
          "height": 270
        },
        "id": "5oENc082spOs",
        "outputId": "e9d86340-1843-4fb7-d546-2045c70a1f22"
      },
      "outputs": [
        {
          "data": {
            "text/html": [
              "\n",
              "  <div id=\"df-bbf626c9-4e25-428c-bf1f-1b3531c4d4d9\">\n",
              "    <div class=\"colab-df-container\">\n",
              "      <div>\n",
              "<style scoped>\n",
              "    .dataframe tbody tr th:only-of-type {\n",
              "        vertical-align: middle;\n",
              "    }\n",
              "\n",
              "    .dataframe tbody tr th {\n",
              "        vertical-align: top;\n",
              "    }\n",
              "\n",
              "    .dataframe thead th {\n",
              "        text-align: right;\n",
              "    }\n",
              "</style>\n",
              "<table border=\"1\" class=\"dataframe\">\n",
              "  <thead>\n",
              "    <tr style=\"text-align: right;\">\n",
              "      <th></th>\n",
              "      <th>Area</th>\n",
              "      <th>Perimeter</th>\n",
              "      <th>MajorAxisLength</th>\n",
              "      <th>MinorAxisLength</th>\n",
              "      <th>AspectRation</th>\n",
              "      <th>Eccentricity</th>\n",
              "      <th>ConvexArea</th>\n",
              "      <th>EquivDiameter</th>\n",
              "      <th>Extent</th>\n",
              "      <th>Solidity</th>\n",
              "      <th>roundness</th>\n",
              "      <th>Compactness</th>\n",
              "      <th>ShapeFactor1</th>\n",
              "      <th>ShapeFactor2</th>\n",
              "      <th>ShapeFactor3</th>\n",
              "      <th>ShapeFactor4</th>\n",
              "    </tr>\n",
              "  </thead>\n",
              "  <tbody>\n",
              "    <tr>\n",
              "      <th>0</th>\n",
              "      <td>28395</td>\n",
              "      <td>610.291</td>\n",
              "      <td>208.178117</td>\n",
              "      <td>173.888747</td>\n",
              "      <td>1.197191</td>\n",
              "      <td>0.549812</td>\n",
              "      <td>28715</td>\n",
              "      <td>190.141097</td>\n",
              "      <td>0.763923</td>\n",
              "      <td>0.988856</td>\n",
              "      <td>0.958027</td>\n",
              "      <td>0.913358</td>\n",
              "      <td>0.007332</td>\n",
              "      <td>0.003147</td>\n",
              "      <td>0.834222</td>\n",
              "      <td>0.998724</td>\n",
              "    </tr>\n",
              "    <tr>\n",
              "      <th>1</th>\n",
              "      <td>28734</td>\n",
              "      <td>638.018</td>\n",
              "      <td>200.524796</td>\n",
              "      <td>182.734419</td>\n",
              "      <td>1.097356</td>\n",
              "      <td>0.411785</td>\n",
              "      <td>29172</td>\n",
              "      <td>191.272750</td>\n",
              "      <td>0.783968</td>\n",
              "      <td>0.984986</td>\n",
              "      <td>0.887034</td>\n",
              "      <td>0.953861</td>\n",
              "      <td>0.006979</td>\n",
              "      <td>0.003564</td>\n",
              "      <td>0.909851</td>\n",
              "      <td>0.998430</td>\n",
              "    </tr>\n",
              "    <tr>\n",
              "      <th>2</th>\n",
              "      <td>29380</td>\n",
              "      <td>624.110</td>\n",
              "      <td>212.826130</td>\n",
              "      <td>175.931143</td>\n",
              "      <td>1.209713</td>\n",
              "      <td>0.562727</td>\n",
              "      <td>29690</td>\n",
              "      <td>193.410904</td>\n",
              "      <td>0.778113</td>\n",
              "      <td>0.989559</td>\n",
              "      <td>0.947849</td>\n",
              "      <td>0.908774</td>\n",
              "      <td>0.007244</td>\n",
              "      <td>0.003048</td>\n",
              "      <td>0.825871</td>\n",
              "      <td>0.999066</td>\n",
              "    </tr>\n",
              "    <tr>\n",
              "      <th>3</th>\n",
              "      <td>30008</td>\n",
              "      <td>645.884</td>\n",
              "      <td>210.557999</td>\n",
              "      <td>182.516516</td>\n",
              "      <td>1.153638</td>\n",
              "      <td>0.498616</td>\n",
              "      <td>30724</td>\n",
              "      <td>195.467062</td>\n",
              "      <td>0.782681</td>\n",
              "      <td>0.976696</td>\n",
              "      <td>0.903936</td>\n",
              "      <td>0.928329</td>\n",
              "      <td>0.007017</td>\n",
              "      <td>0.003215</td>\n",
              "      <td>0.861794</td>\n",
              "      <td>0.994199</td>\n",
              "    </tr>\n",
              "    <tr>\n",
              "      <th>4</th>\n",
              "      <td>30140</td>\n",
              "      <td>620.134</td>\n",
              "      <td>201.847882</td>\n",
              "      <td>190.279279</td>\n",
              "      <td>1.060798</td>\n",
              "      <td>0.333680</td>\n",
              "      <td>30417</td>\n",
              "      <td>195.896503</td>\n",
              "      <td>0.773098</td>\n",
              "      <td>0.990893</td>\n",
              "      <td>0.984877</td>\n",
              "      <td>0.970516</td>\n",
              "      <td>0.006697</td>\n",
              "      <td>0.003665</td>\n",
              "      <td>0.941900</td>\n",
              "      <td>0.999166</td>\n",
              "    </tr>\n",
              "  </tbody>\n",
              "</table>\n",
              "</div>\n",
              "      <button class=\"colab-df-convert\" onclick=\"convertToInteractive('df-bbf626c9-4e25-428c-bf1f-1b3531c4d4d9')\"\n",
              "              title=\"Convert this dataframe to an interactive table.\"\n",
              "              style=\"display:none;\">\n",
              "        \n",
              "  <svg xmlns=\"http://www.w3.org/2000/svg\" height=\"24px\"viewBox=\"0 0 24 24\"\n",
              "       width=\"24px\">\n",
              "    <path d=\"M0 0h24v24H0V0z\" fill=\"none\"/>\n",
              "    <path d=\"M18.56 5.44l.94 2.06.94-2.06 2.06-.94-2.06-.94-.94-2.06-.94 2.06-2.06.94zm-11 1L8.5 8.5l.94-2.06 2.06-.94-2.06-.94L8.5 2.5l-.94 2.06-2.06.94zm10 10l.94 2.06.94-2.06 2.06-.94-2.06-.94-.94-2.06-.94 2.06-2.06.94z\"/><path d=\"M17.41 7.96l-1.37-1.37c-.4-.4-.92-.59-1.43-.59-.52 0-1.04.2-1.43.59L10.3 9.45l-7.72 7.72c-.78.78-.78 2.05 0 2.83L4 21.41c.39.39.9.59 1.41.59.51 0 1.02-.2 1.41-.59l7.78-7.78 2.81-2.81c.8-.78.8-2.07 0-2.86zM5.41 20L4 18.59l7.72-7.72 1.47 1.35L5.41 20z\"/>\n",
              "  </svg>\n",
              "      </button>\n",
              "      \n",
              "  <style>\n",
              "    .colab-df-container {\n",
              "      display:flex;\n",
              "      flex-wrap:wrap;\n",
              "      gap: 12px;\n",
              "    }\n",
              "\n",
              "    .colab-df-convert {\n",
              "      background-color: #E8F0FE;\n",
              "      border: none;\n",
              "      border-radius: 50%;\n",
              "      cursor: pointer;\n",
              "      display: none;\n",
              "      fill: #1967D2;\n",
              "      height: 32px;\n",
              "      padding: 0 0 0 0;\n",
              "      width: 32px;\n",
              "    }\n",
              "\n",
              "    .colab-df-convert:hover {\n",
              "      background-color: #E2EBFA;\n",
              "      box-shadow: 0px 1px 2px rgba(60, 64, 67, 0.3), 0px 1px 3px 1px rgba(60, 64, 67, 0.15);\n",
              "      fill: #174EA6;\n",
              "    }\n",
              "\n",
              "    [theme=dark] .colab-df-convert {\n",
              "      background-color: #3B4455;\n",
              "      fill: #D2E3FC;\n",
              "    }\n",
              "\n",
              "    [theme=dark] .colab-df-convert:hover {\n",
              "      background-color: #434B5C;\n",
              "      box-shadow: 0px 1px 3px 1px rgba(0, 0, 0, 0.15);\n",
              "      filter: drop-shadow(0px 1px 2px rgba(0, 0, 0, 0.3));\n",
              "      fill: #FFFFFF;\n",
              "    }\n",
              "  </style>\n",
              "\n",
              "      <script>\n",
              "        const buttonEl =\n",
              "          document.querySelector('#df-bbf626c9-4e25-428c-bf1f-1b3531c4d4d9 button.colab-df-convert');\n",
              "        buttonEl.style.display =\n",
              "          google.colab.kernel.accessAllowed ? 'block' : 'none';\n",
              "\n",
              "        async function convertToInteractive(key) {\n",
              "          const element = document.querySelector('#df-bbf626c9-4e25-428c-bf1f-1b3531c4d4d9');\n",
              "          const dataTable =\n",
              "            await google.colab.kernel.invokeFunction('convertToInteractive',\n",
              "                                                     [key], {});\n",
              "          if (!dataTable) return;\n",
              "\n",
              "          const docLinkHtml = 'Like what you see? Visit the ' +\n",
              "            '<a target=\"_blank\" href=https://colab.research.google.com/notebooks/data_table.ipynb>data table notebook</a>'\n",
              "            + ' to learn more about interactive tables.';\n",
              "          element.innerHTML = '';\n",
              "          dataTable['output_type'] = 'display_data';\n",
              "          await google.colab.output.renderOutput(dataTable, element);\n",
              "          const docLink = document.createElement('div');\n",
              "          docLink.innerHTML = docLinkHtml;\n",
              "          element.appendChild(docLink);\n",
              "        }\n",
              "      </script>\n",
              "    </div>\n",
              "  </div>\n",
              "  "
            ],
            "text/plain": [
              "    Area  Perimeter  MajorAxisLength  MinorAxisLength  AspectRation  \\\n",
              "0  28395    610.291       208.178117       173.888747      1.197191   \n",
              "1  28734    638.018       200.524796       182.734419      1.097356   \n",
              "2  29380    624.110       212.826130       175.931143      1.209713   \n",
              "3  30008    645.884       210.557999       182.516516      1.153638   \n",
              "4  30140    620.134       201.847882       190.279279      1.060798   \n",
              "\n",
              "   Eccentricity  ConvexArea  EquivDiameter    Extent  Solidity  roundness  \\\n",
              "0      0.549812       28715     190.141097  0.763923  0.988856   0.958027   \n",
              "1      0.411785       29172     191.272750  0.783968  0.984986   0.887034   \n",
              "2      0.562727       29690     193.410904  0.778113  0.989559   0.947849   \n",
              "3      0.498616       30724     195.467062  0.782681  0.976696   0.903936   \n",
              "4      0.333680       30417     195.896503  0.773098  0.990893   0.984877   \n",
              "\n",
              "   Compactness  ShapeFactor1  ShapeFactor2  ShapeFactor3  ShapeFactor4  \n",
              "0     0.913358      0.007332      0.003147      0.834222      0.998724  \n",
              "1     0.953861      0.006979      0.003564      0.909851      0.998430  \n",
              "2     0.908774      0.007244      0.003048      0.825871      0.999066  \n",
              "3     0.928329      0.007017      0.003215      0.861794      0.994199  \n",
              "4     0.970516      0.006697      0.003665      0.941900      0.999166  "
            ]
          },
          "execution_count": 2,
          "metadata": {},
          "output_type": "execute_result"
        }
      ],
      "source": [
        "# drop duplicate data\n",
        "bean_data_duplicated_dropped = bean_data.drop_duplicates()\n",
        "y = bean_data_duplicated_dropped['Class']\n",
        "x = bean_data_duplicated_dropped.drop('Class', axis=1)\n",
        "x.head()  #check `Class` column is removed"
      ]
    },
    {
      "cell_type": "markdown",
      "metadata": {
        "id": "B9o7UnAcmfRs"
      },
      "source": [
        "## split data into training and testing data set"
      ]
    },
    {
      "cell_type": "code",
      "execution_count": null,
      "metadata": {
        "colab": {
          "base_uri": "https://localhost:8080/"
        },
        "id": "08hkyX1Fuynw",
        "outputId": "b809efee-3bf9-4d65-8fa0-9fe3e276c979"
      },
      "outputs": [
        {
          "name": "stdout",
          "output_type": "stream",
          "text": [
            "There are 10834 samples for training and 2709 samples for testing.\n"
          ]
        }
      ],
      "source": [
        "from sklearn.model_selection import train_test_split\n",
        "\n",
        "# random seed\n",
        "random_seed = 1\n",
        "# size of training/test/validation data set\n",
        "test_size = 0.2\n",
        "val_size = 0.1\n",
        "\n",
        "x_train, x_test, y_train, y_test = train_test_split(x, y, test_size = test_size, random_state = random_seed)\n",
        "\n",
        "\n",
        "print(f'There are {x_train.shape[0]} samples for training and {x_test.shape[0]} samples for testing.')"
      ]
    },
    {
      "cell_type": "markdown",
      "metadata": {
        "id": "hNhqCPwvmpqg"
      },
      "source": [
        "## normalize training data"
      ]
    },
    {
      "cell_type": "code",
      "execution_count": null,
      "metadata": {
        "id": "fh7tRbYFmsHe"
      },
      "outputs": [],
      "source": [
        "from sklearn.preprocessing import MinMaxScaler, RobustScaler\n",
        "\n",
        "scaler = RobustScaler().fit(x_train)\n",
        "x_train_normalized = scaler.transform(x_train)"
      ]
    },
    {
      "cell_type": "markdown",
      "metadata": {
        "id": "Vwm-whRdSpVU"
      },
      "source": [
        "# Balance data (In progress)\n"
      ]
    },
    {
      "cell_type": "code",
      "execution_count": null,
      "metadata": {
        "id": "2kq_XFQtStNS"
      },
      "outputs": [],
      "source": [
        "%%capture\n",
        "%%bash\n",
        "pip install imbalanced-learn"
      ]
    },
    {
      "cell_type": "code",
      "execution_count": null,
      "metadata": {
        "colab": {
          "base_uri": "https://localhost:8080/",
          "height": 424
        },
        "id": "joFbgafHTFct",
        "outputId": "e12b0acf-9401-4841-eedf-96da4d9470ec"
      },
      "outputs": [
        {
          "data": {
            "text/plain": [
              "<Axes: ylabel='Class'>"
            ]
          },
          "execution_count": 7,
          "metadata": {},
          "output_type": "execute_result"
        },
        {
          "data": {
            "image/png": "[encoded data removed]",
            "text/plain": [
              "<Figure size 640x480 with 1 Axes>"
            ]
          },
          "metadata": {},
          "output_type": "display_data"
        }
      ],
      "source": [
        "y_train.value_counts().plot.pie(autopct='%.2f')"
      ]
    },
    {
      "cell_type": "code",
      "execution_count": null,
      "metadata": {
        "colab": {
          "base_uri": "https://localhost:8080/"
        },
        "id": "kcTsv7MzTLx5",
        "outputId": "0fd9e8a2-67ed-4cf5-a1b9-357a63d442fa"
      },
      "outputs": [
        {
          "data": {
            "text/plain": [
              "CALI        2840\n",
              "HOROZ       2840\n",
              "DERMASON    2840\n",
              "SIRA        2840\n",
              "SEKER       2840\n",
              "BARBUNYA    2840\n",
              "BOMBAY      2840\n",
              "Name: Class, dtype: int64"
            ]
          },
          "execution_count": 8,
          "metadata": {},
          "output_type": "execute_result"
        }
      ],
      "source": [
        "# from imblearn.over_sampling import RandomOverSampler\n",
        "# from imblearn.pipeline import make_pipeline\n",
        "\n",
        "# pipe = make_pipeline(RandomOverSampler(random_state=0), svc)\n",
        "# pipe.fit(x_train, y_train)\n",
        "\n",
        "from imblearn.over_sampling import SMOTE\n",
        "\n",
        "smote = SMOTE()\n",
        "x_train_resampled, y_train_resampled = smote.fit_resample(x_train_normalized, y_train)\n",
        "y_train_resampled.value_counts()"
      ]
    },
    {
      "cell_type": "markdown",
      "metadata": {
        "id": "z2xIJfC4vf10"
      },
      "source": [
        "# Train model"
      ]
    },
    {
      "cell_type": "markdown",
      "metadata": {
        "id": "3AXREFkW-qju"
      },
      "source": [
        "## Find the best model"
      ]
    },
    {
      "cell_type": "code",
      "execution_count": null,
      "metadata": {
        "colab": {
          "base_uri": "https://localhost:8080/"
        },
        "id": "cOA0u81j-v1f",
        "outputId": "fc7a75ca-d2ce-407f-9300-0e382fa7a47c"
      },
      "outputs": [
        {
          "metadata": {
            "tags": null
          },
          "name": "stdout",
          "output_type": "stream",
          "text": [
            "Fitting 5 folds for each of 18 candidates, totalling 90 fits\n"
          ]
        }
      ],
      "source": [
        "from sklearn.model_selection import GridSearchCV\n",
        "from sklearn.svm import SVC\n",
        "\n",
        "parameters_dictionary = {'kernel':['poly', 'rbf'], \n",
        "                         'C':[2, 8, 16], \n",
        "                         'gamma':[0.25, 1, 8]}\n",
        "svc = SVC()\n",
        "\n",
        "grid_search = GridSearchCV(svc, \n",
        "                           parameters_dictionary, \n",
        "                           scoring = 'f1_macro',\n",
        "                           return_train_score=True, \n",
        "                           cv = 5,\n",
        "                           verbose = 1) # Displays how many combinations of parameters and folds we'll have, for more information as the time to run each search, use 2 or 3 values instead of 1)\n",
        "grid_search.fit(x_train_resampled, y_train_resampled)\n",
        "\n",
        "best_model = grid_search.best_estimator_\n",
        "best_parameters = grid_search.best_params_\n",
        "best_f1 = grid_search.best_score_\n",
        "\n",
        "print('The best model was:', best_model)\n",
        "print('The best parameter values were:', best_parameters)\n",
        "print('The best f1-score was:', best_f1)"
      ]
    },
    {
      "cell_type": "code",
      "execution_count": null,
      "metadata": {
        "colab": {
          "base_uri": "https://localhost:8080/",
          "height": 75
        },
        "id": "32SpeL36vlBw",
        "outputId": "f953dfa1-bafe-4e31-f888-a0881857fa95"
      },
      "outputs": [
        {
          "data": {
            "text/html": [
              "<style>#sk-container-id-26 {color: black;background-color: white;}#sk-container-id-26 pre{padding: 0;}#sk-container-id-26 div.sk-toggleable {background-color: white;}#sk-container-id-26 label.sk-toggleable__label {cursor: pointer;display: block;width: 100%;margin-bottom: 0;padding: 0.3em;box-sizing: border-box;text-align: center;}#sk-container-id-26 label.sk-toggleable__label-arrow:before {content: \"▸\";float: left;margin-right: 0.25em;color: #696969;}#sk-container-id-26 label.sk-toggleable__label-arrow:hover:before {color: black;}#sk-container-id-26 div.sk-estimator:hover label.sk-toggleable__label-arrow:before {color: black;}#sk-container-id-26 div.sk-toggleable__content {max-height: 0;max-width: 0;overflow: hidden;text-align: left;background-color: #f0f8ff;}#sk-container-id-26 div.sk-toggleable__content pre {margin: 0.2em;color: black;border-radius: 0.25em;background-color: #f0f8ff;}#sk-container-id-26 input.sk-toggleable__control:checked~div.sk-toggleable__content {max-height: 200px;max-width: 100%;overflow: auto;}#sk-container-id-26 input.sk-toggleable__control:checked~label.sk-toggleable__label-arrow:before {content: \"▾\";}#sk-container-id-26 div.sk-estimator input.sk-toggleable__control:checked~label.sk-toggleable__label {background-color: #d4ebff;}#sk-container-id-26 div.sk-label input.sk-toggleable__control:checked~label.sk-toggleable__label {background-color: #d4ebff;}#sk-container-id-26 input.sk-hidden--visually {border: 0;clip: rect(1px 1px 1px 1px);clip: rect(1px, 1px, 1px, 1px);height: 1px;margin: -1px;overflow: hidden;padding: 0;position: absolute;width: 1px;}#sk-container-id-26 div.sk-estimator {font-family: monospace;background-color: #f0f8ff;border: 1px dotted black;border-radius: 0.25em;box-sizing: border-box;margin-bottom: 0.5em;}#sk-container-id-26 div.sk-estimator:hover {background-color: #d4ebff;}#sk-container-id-26 div.sk-parallel-item::after {content: \"\";width: 100%;border-bottom: 1px solid gray;flex-grow: 1;}#sk-container-id-26 div.sk-label:hover label.sk-toggleable__label {background-color: #d4ebff;}#sk-container-id-26 div.sk-serial::before {content: \"\";position: absolute;border-left: 1px solid gray;box-sizing: border-box;top: 0;bottom: 0;left: 50%;z-index: 0;}#sk-container-id-26 div.sk-serial {display: flex;flex-direction: column;align-items: center;background-color: white;padding-right: 0.2em;padding-left: 0.2em;position: relative;}#sk-container-id-26 div.sk-item {position: relative;z-index: 1;}#sk-container-id-26 div.sk-parallel {display: flex;align-items: stretch;justify-content: center;background-color: white;position: relative;}#sk-container-id-26 div.sk-item::before, #sk-container-id-26 div.sk-parallel-item::before {content: \"\";position: absolute;border-left: 1px solid gray;box-sizing: border-box;top: 0;bottom: 0;left: 50%;z-index: -1;}#sk-container-id-26 div.sk-parallel-item {display: flex;flex-direction: column;z-index: 1;position: relative;background-color: white;}#sk-container-id-26 div.sk-parallel-item:first-child::after {align-self: flex-end;width: 50%;}#sk-container-id-26 div.sk-parallel-item:last-child::after {align-self: flex-start;width: 50%;}#sk-container-id-26 div.sk-parallel-item:only-child::after {width: 0;}#sk-container-id-26 div.sk-dashed-wrapped {border: 1px dashed gray;margin: 0 0.4em 0.5em 0.4em;box-sizing: border-box;padding-bottom: 0.4em;background-color: white;}#sk-container-id-26 div.sk-label label {font-family: monospace;font-weight: bold;display: inline-block;line-height: 1.2em;}#sk-container-id-26 div.sk-label-container {text-align: center;}#sk-container-id-26 div.sk-container {/* jupyter's `normalize.less` sets `[hidden] { display: none; }` but bootstrap.min.css set `[hidden] { display: none !important; }` so we also need the `!important` here to be able to override the default hidden behavior on the sphinx rendered scikit-learn.org. See: https://github.com/scikit-learn/scikit-learn/issues/21755 */display: inline-block !important;position: relative;}#sk-container-id-26 div.sk-text-repr-fallback {display: none;}</style><div id=\"sk-container-id-26\" class=\"sk-top-container\"><div class=\"sk-text-repr-fallback\"><pre>SVC(C=10, gamma=1)</pre><b>In a Jupyter environment, please rerun this cell to show the HTML representation or trust the notebook. <br />On GitHub, the HTML representation is unable to render, please try loading this page with nbviewer.org.</b></div><div class=\"sk-container\" hidden><div class=\"sk-item\"><div class=\"sk-estimator sk-toggleable\"><input class=\"sk-toggleable__control sk-hidden--visually\" id=\"sk-estimator-id-26\" type=\"checkbox\" checked><label for=\"sk-estimator-id-26\" class=\"sk-toggleable__label sk-toggleable__label-arrow\">SVC</label><div class=\"sk-toggleable__content\"><pre>SVC(C=10, gamma=1)</pre></div></div></div></div></div>"
            ],
            "text/plain": [
              "SVC(C=10, gamma=1)"
            ]
          },
          "execution_count": 182,
          "metadata": {},
          "output_type": "execute_result"
        }
      ],
      "source": [
        "from sklearn.svm import SVC\n",
        "###\n",
        "# The best model was: SVC(C=17, gamma=1.1)\n",
        "# The best parameter values were: {'C': 17, 'gamma': 1.1, 'kernel': 'rbf'}\n",
        "# The best f1-score was: 0.9607446864428522\n",
        "###\n",
        "\n",
        "# svc = SVC(C=10, gamma=1, kernel='linear')\n",
        "svc = SVC(C=10, gamma=1)\n",
        "# svc = SVC(C=10, kernel='rbf', degree=3, gamma='scale', class_weight=None, random_state=random_seed)\n",
        "svc.fit(x_train_resampled, y_train_resampled)"
      ]
    },
    {
      "cell_type": "markdown",
      "metadata": {
        "id": "AmXZQ-OLyKy1"
      },
      "source": [
        "## Lab-Based"
      ]
    },
    {
      "cell_type": "code",
      "execution_count": null,
      "metadata": {
        "id": "z17jglC-yUxs"
      },
      "outputs": [],
      "source": [
        "from sklearn.metrics import f1_score\n",
        "from sklearn.metrics import classification_report\n",
        "\n",
        "c_options = [0.1, 10.0, 12.0]\n",
        "best_c_index = 0\n",
        "best_c_perf = 0\n",
        "# val_labels = bean_classes[val_set_ids]\n",
        "# train_labels = bean_classes[train_set_ids];\n",
        "x_train, x_val, y_train, y_val = train_test_split(x_train, y_train, test_size = test_size, random_state = random_seed)\n",
        "\n",
        "\n",
        "for c in c_options:\n",
        "  print(\"\\n for c=\"+str(c)+\"...\")\n",
        "  model = SVC(C=c, kernel='linear', degree=3, gamma='scale', class_weight=None, random_state=random_seed)\n",
        "  model.fit(x_train, y_train)\n",
        "  val_pred = model.predict(x_val)\n",
        "\n",
        "  avg_f1_score = f1_score(y_val, val_pred, average='macro')\n",
        "  print(\"\\n f1 score: \"+str(avg_f1_score))\n",
        "\n",
        "  print(classification_report(y_val,val_pred))\n",
        "  \n",
        "  if avg_f1_score > best_c_perf:\n",
        "    best_c = c\n",
        "    best_c_perf = avg_f1_score\n",
        "\n",
        "print('\\n The optimal c for this data is: '+str(best_c))\n",
        "\n",
        "# # Use the optimized hyperparameter to train the final model\n",
        "# svc_model = SVC(C=best_c, kernel='rbf', degree=3, gamma='scale', class_weight=None, random_state=random_seed)\n",
        "# svc_model.fit(scaled_bean_feats[train_set_ids, :], train_labels)\n",
        "\n",
        "# # Evaluate the trained model using the test set\n",
        "# test_labels = bean_classes[test_set_ids]\n",
        "# test_pred = model.predict(scaled_bean_feats[test_set_ids, :])\n",
        "\n",
        "# avg_f1_score = f1_score(test_labels, test_pred, average='macro')\n",
        "# f1_scores = f1_score(test_labels, test_pred, average=None)\n",
        "# print('\\n The F1 scores for each of the classes are: '+str(f1_scores))\n",
        "# print('\\n The average F1 score is: '+str(avg_f1_score))"
      ]
    },
    {
      "cell_type": "markdown",
      "metadata": {
        "id": "Y3ESOhvBxRy8"
      },
      "source": [
        "# Make prediction"
      ]
    },
    {
      "cell_type": "code",
      "execution_count": null,
      "metadata": {
        "id": "JoXgUjTrxUqR"
      },
      "outputs": [],
      "source": [
        "x_test_normalized = scaler.transform(x_test)\n",
        "y_pred = svc.predict(x_test_normalized)\n",
        "# x_test_normalized\n",
        "\n",
        "# lab\n",
        "# svc_lab = SVC(C=0.1, kernel='rbf', degree=3, gamma='scale', class_weight=None, random_state=random_seed)\n",
        "# svc_lab.fit(x_train, y_train)\n",
        "# y_pred = svc_lab.predict(x_test)"
      ]
    },
    {
      "cell_type": "markdown",
      "metadata": {
        "id": "twGtNvPeHWYp"
      },
      "source": [
        "# Evaluate model"
      ]
    },
    {
      "cell_type": "code",
      "execution_count": null,
      "metadata": {
        "colab": {
          "base_uri": "https://localhost:8080/",
          "height": 738
        },
        "id": "AQkB0UgwHadH",
        "outputId": "197c8a54-8e84-4a57-e120-5ca3704f9504"
      },
      "outputs": [
        {
          "name": "stdout",
          "output_type": "stream",
          "text": [
            "              precision    recall  f1-score   support\n",
            "\n",
            "    BARBUNYA       0.92      0.90      0.91       270\n",
            "      BOMBAY       1.00      0.97      0.99       103\n",
            "        CALI       0.92      0.93      0.93       333\n",
            "    DERMASON       0.93      0.92      0.92       705\n",
            "       HOROZ       0.92      0.96      0.94       386\n",
            "       SEKER       0.96      0.95      0.95       405\n",
            "        SIRA       0.86      0.88      0.87       521\n",
            "\n",
            "    accuracy                           0.92      2723\n",
            "   macro avg       0.93      0.93      0.93      2723\n",
            "weighted avg       0.92      0.92      0.92      2723\n",
            "\n",
            "The accuracy score is 0.9221446933529196\n",
            "The f1 score is 0.9305797418056905\n"
          ]
        },
        {
          "data": {
            "image/png": "[encoded data removed]",
            "text/plain": [
              "<Figure size 640x480 with 2 Axes>"
            ]
          },
          "metadata": {},
          "output_type": "display_data"
        }
      ],
      "source": [
        "from sklearn.metrics import classification_report, confusion_matrix, accuracy_score, f1_score\n",
        "\n",
        "cm = confusion_matrix(y_test,y_pred)\n",
        "sns.heatmap(cm, annot=True, fmt='d').set_title('Confusion matrix of SVM') # fmt='d' formats the numbers as digits, which means integers\n",
        "\n",
        "print(classification_report(y_test,y_pred))\n",
        "print(f'The accuracy score is {accuracy_score(y_test, y_pred)}')\n",
        "f1 = f1_score(y_test, y_pred, average='macro')\n",
        "print(f'The f1 score is {f1}')"
      ]
    }
  ],
  "metadata": {
    "colab": {
      "collapsed_sections": [
        "iO7JL6_-sa8J",
        "AmXZQ-OLyKy1"
      ],
      "provenance": [],
      "include_colab_link": true
    },
    "kernelspec": {
      "display_name": "Python 3",
      "name": "python3"
    },
    "language_info": {
      "name": "python"
    }
  },
  "nbformat": 4,
  "nbformat_minor": 0
}